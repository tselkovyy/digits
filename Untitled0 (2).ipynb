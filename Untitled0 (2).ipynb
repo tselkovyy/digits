{
  "nbformat": 4,
  "nbformat_minor": 0,
  "metadata": {
    "colab": {
      "name": "Untitled0.ipynb",
      "provenance": []
    },
    "kernelspec": {
      "name": "python3",
      "display_name": "Python 3"
    }
  },
  "cells": [
    {
      "cell_type": "code",
      "metadata": {
        "id": "d8RcnfLaLwaq"
      },
      "source": [
        "import tensorflow as tf\r\n",
        "import numpy as np\r\n",
        "import matplotlib.pyplot as plt"
      ],
      "execution_count": 1,
      "outputs": []
    },
    {
      "cell_type": "code",
      "metadata": {
        "colab": {
          "base_uri": "https://localhost:8080/"
        },
        "id": "ZFVqBleVL5-f",
        "outputId": "7adc5ea4-2668-44b9-a9af-149dda32d301"
      },
      "source": [
        "mnist = tf.keras.datasets.mnist\r\n",
        "(x_train, y_train), (x_test,y_test) = mnist.load_data()"
      ],
      "execution_count": 2,
      "outputs": [
        {
          "output_type": "stream",
          "text": [
            "Downloading data from https://storage.googleapis.com/tensorflow/tf-keras-datasets/mnist.npz\n",
            "11493376/11490434 [==============================] - 0s 0us/step\n"
          ],
          "name": "stdout"
        }
      ]
    },
    {
      "cell_type": "code",
      "metadata": {
        "colab": {
          "base_uri": "https://localhost:8080/"
        },
        "id": "fsxaPrMIL9gg",
        "outputId": "ffe20bb4-ea71-4aea-a42f-e2ecece982f9"
      },
      "source": [
        "print(x_train.shape)\r\n",
        "print(x_test.shape)"
      ],
      "execution_count": 3,
      "outputs": [
        {
          "output_type": "stream",
          "text": [
            "(60000, 28, 28)\n",
            "(10000, 28, 28)\n"
          ],
          "name": "stdout"
        }
      ]
    },
    {
      "cell_type": "code",
      "metadata": {
        "id": "n9XTNIDJL-GT"
      },
      "source": [
        "x_train = x_train/255\r\n",
        "x_test = x_test/255"
      ],
      "execution_count": 4,
      "outputs": []
    },
    {
      "cell_type": "markdown",
      "metadata": {
        "id": "cKoXCQG2Mxvr"
      },
      "source": [
        "1 нейронка\r\n"
      ]
    },
    {
      "cell_type": "code",
      "metadata": {
        "id": "Tkp5YZKTL_zE"
      },
      "source": [
        "model1 = tf.keras.models.Sequential([\r\n",
        "      tf.keras.layers.Flatten(input_shape=(28,28,1)),\r\n",
        "      tf.keras.layers.Dense(128, activation = tf.nn.sigmoid),\r\n",
        "      tf.keras.layers.Dense(10, activation = tf.nn.softmax)\r\n",
        "])"
      ],
      "execution_count": 5,
      "outputs": []
    },
    {
      "cell_type": "code",
      "metadata": {
        "id": "QBr4g2adMKrW"
      },
      "source": [
        "model1.compile(\r\n",
        "    optimizer = 'adam',\r\n",
        "    loss = 'sparse_categorical_crossentropy',\r\n",
        "    metrics = ['accuracy']\r\n",
        ")"
      ],
      "execution_count": 6,
      "outputs": []
    },
    {
      "cell_type": "code",
      "metadata": {
        "colab": {
          "base_uri": "https://localhost:8080/"
        },
        "id": "NoDyG6eEMP5k",
        "outputId": "d08dc9b4-205a-4155-d0c9-11a8bff1f3e3"
      },
      "source": [
        "Model1 = model1.fit(x_train,y_train,batch_size=32, epochs=8)"
      ],
      "execution_count": 7,
      "outputs": [
        {
          "output_type": "stream",
          "text": [
            "Epoch 1/8\n",
            "1875/1875 [==============================] - 5s 2ms/step - loss: 0.6610 - accuracy: 0.8380\n",
            "Epoch 2/8\n",
            "1875/1875 [==============================] - 4s 2ms/step - loss: 0.2124 - accuracy: 0.9390\n",
            "Epoch 3/8\n",
            "1875/1875 [==============================] - 3s 2ms/step - loss: 0.1495 - accuracy: 0.9568\n",
            "Epoch 4/8\n",
            "1875/1875 [==============================] - 4s 2ms/step - loss: 0.1107 - accuracy: 0.9681\n",
            "Epoch 5/8\n",
            "1875/1875 [==============================] - 4s 2ms/step - loss: 0.0890 - accuracy: 0.9752\n",
            "Epoch 6/8\n",
            "1875/1875 [==============================] - 3s 2ms/step - loss: 0.0731 - accuracy: 0.9798\n",
            "Epoch 7/8\n",
            "1875/1875 [==============================] - 4s 2ms/step - loss: 0.0606 - accuracy: 0.9838\n",
            "Epoch 8/8\n",
            "1875/1875 [==============================] - 3s 2ms/step - loss: 0.0512 - accuracy: 0.9869\n"
          ],
          "name": "stdout"
        }
      ]
    },
    {
      "cell_type": "code",
      "metadata": {
        "colab": {
          "base_uri": "https://localhost:8080/"
        },
        "id": "Wo5gA9U9MRv1",
        "outputId": "e6547eea-3e4d-4f64-f48c-ea4bb8356444"
      },
      "source": [
        "print(model1.evaluate(x_test,y_test))"
      ],
      "execution_count": 8,
      "outputs": [
        {
          "output_type": "stream",
          "text": [
            "313/313 [==============================] - 1s 1ms/step - loss: 0.0760 - accuracy: 0.9754\n",
            "[0.07601785659790039, 0.9753999710083008]\n"
          ],
          "name": "stdout"
        }
      ]
    },
    {
      "cell_type": "code",
      "metadata": {
        "colab": {
          "base_uri": "https://localhost:8080/",
          "height": 279
        },
        "id": "Cy_gX4QOMUdD",
        "outputId": "77a09cde-0f96-4a05-87f9-ba78beba7b70"
      },
      "source": [
        "accu_values = Model1.history['accuracy']\r\n",
        "epochs = range(1,len(accu_values) + 1)\r\n",
        "plt.plot(epochs,accu_values,label = 'Метрика качества')\r\n",
        "plt.xlabel('Epochs')\r\n",
        "plt.ylabel('accuracy')\r\n",
        "plt.legend()\r\n",
        "plt.show()"
      ],
      "execution_count": 9,
      "outputs": [
        {
          "output_type": "display_data",
          "data": {
            "image/png": "[encoded data removed]",
            "text/plain": [
              "<Figure size 432x288 with 1 Axes>"
            ]
          },
          "metadata": {
            "tags": [],
            "needs_background": "light"
          }
        }
      ]
    },
    {
      "cell_type": "code",
      "metadata": {
        "colab": {
          "base_uri": "https://localhost:8080/",
          "height": 279
        },
        "id": "CLCASG0HMWH0",
        "outputId": "96215db0-26c3-43ea-9f66-ee8766415db0"
      },
      "source": [
        "accu_values = Model1.history['loss']\r\n",
        "epochs = range(1,len(accu_values) + 1)\r\n",
        "plt.plot(epochs,accu_values,label = 'Функция потерь')\r\n",
        "plt.xlabel('Epochs')\r\n",
        "plt.ylabel('loss')\r\n",
        "plt.legend()\r\n",
        "plt.show()"
      ],
      "execution_count": 10,
      "outputs": [
        {
          "output_type": "display_data",
          "data": {
            "image/png": "[encoded data removed]",
            "text/plain": [
              "<Figure size 432x288 with 1 Axes>"
            ]
          },
          "metadata": {
            "tags": [],
            "needs_background": "light"
          }
        }
      ]
    },
    {
      "cell_type": "markdown",
      "metadata": {
        "id": "P62hgOYmM6x2"
      },
      "source": [
        "2 нейронка"
      ]
    },
    {
      "cell_type": "code",
      "metadata": {
        "id": "HWcbTRriM59k"
      },
      "source": [
        "model2 =  tf.keras.models.Sequential([\r\n",
        "    tf.keras.layers.Conv2D(input_shape=(28, 28, 1), filters=32, kernel_size=(3,3),activation='relu'),\r\n",
        "    tf.keras.layers.MaxPool2D(pool_size=(2,2)),\r\n",
        "    tf.keras.layers.Conv2D( filters=64, kernel_size=(3,3),activation='relu'),\r\n",
        "    tf.keras.layers.MaxPool2D(pool_size=(2,2)),\r\n",
        "    tf.keras.layers.Flatten(),\r\n",
        "    tf.keras.layers.Dense(1024, activation=tf.nn.relu),\r\n",
        "    tf.keras.layers.Dense(10, activation=tf.nn.softmax)\r\n",
        "])"
      ],
      "execution_count": 11,
      "outputs": []
    },
    {
      "cell_type": "code",
      "metadata": {
        "id": "6UJtWGIKM_RU"
      },
      "source": [
        "model2.compile(\r\n",
        "    optimizer = 'adam',\r\n",
        "    loss= 'sparse_categorical_crossentropy',\r\n",
        "    metrics= ['accuracy']\r\n",
        ")"
      ],
      "execution_count": 12,
      "outputs": []
    },
    {
      "cell_type": "code",
      "metadata": {
        "colab": {
          "base_uri": "https://localhost:8080/"
        },
        "id": "nfpHyBEPNBG0",
        "outputId": "0ef19d74-1aa2-4b57-e5a5-89ca56a2f9a2"
      },
      "source": [
        "Model2 = model2.fit(x_train.reshape(-1, 28, 28, 1),y_train, batch_size=32, epochs=8)"
      ],
      "execution_count": 13,
      "outputs": [
        {
          "output_type": "stream",
          "text": [
            "Epoch 1/8\n",
            "1875/1875 [==============================] - 89s 47ms/step - loss: 0.2287 - accuracy: 0.9267\n",
            "Epoch 2/8\n",
            "1875/1875 [==============================] - 84s 45ms/step - loss: 0.0386 - accuracy: 0.9885\n",
            "Epoch 3/8\n",
            "1875/1875 [==============================] - 84s 45ms/step - loss: 0.0234 - accuracy: 0.9927\n",
            "Epoch 4/8\n",
            "1875/1875 [==============================] - 82s 44ms/step - loss: 0.0163 - accuracy: 0.9947\n",
            "Epoch 5/8\n",
            "1875/1875 [==============================] - 94s 50ms/step - loss: 0.0109 - accuracy: 0.9968\n",
            "Epoch 6/8\n",
            "1875/1875 [==============================] - 89s 48ms/step - loss: 0.0107 - accuracy: 0.9967\n",
            "Epoch 7/8\n",
            "1875/1875 [==============================] - 92s 49ms/step - loss: 0.0063 - accuracy: 0.9979\n",
            "Epoch 8/8\n",
            "1875/1875 [==============================] - 83s 44ms/step - loss: 0.0052 - accuracy: 0.9986\n"
          ],
          "name": "stdout"
        }
      ]
    },
    {
      "cell_type": "code",
      "metadata": {
        "id": "5YwwYhl7NFCj",
        "colab": {
          "base_uri": "https://localhost:8080/"
        },
        "outputId": "463cacce-ec0d-42ab-d90b-2f48ada3219d"
      },
      "source": [
        "print(model2.evaluate(x_test.reshape(-1, 28, 28, 1),y_test))"
      ],
      "execution_count": 14,
      "outputs": [
        {
          "output_type": "stream",
          "text": [
            "313/313 [==============================] - 4s 12ms/step - loss: 0.0334 - accuracy: 0.9911\n",
            "[0.03338056057691574, 0.991100013256073]\n"
          ],
          "name": "stdout"
        }
      ]
    },
    {
      "cell_type": "code",
      "metadata": {
        "id": "WUuPnmuZNGor",
        "colab": {
          "base_uri": "https://localhost:8080/",
          "height": 279
        },
        "outputId": "30df6e75-0245-47a3-e588-46d32721e85a"
      },
      "source": [
        "accu_values = Model2.history['accuracy']\r\n",
        "epochs = range(1,len(accu_values) + 1)\r\n",
        "plt.plot(epochs,accu_values,label = 'Метрика качества')\r\n",
        "plt.xlabel('Epochs')\r\n",
        "plt.ylabel('accuracy')\r\n",
        "plt.legend()\r\n",
        "plt.show()"
      ],
      "execution_count": 15,
      "outputs": [
        {
          "output_type": "display_data",
          "data": {
            "image/png": "[encoded data removed]",
            "text/plain": [
              "<Figure size 432x288 with 1 Axes>"
            ]
          },
          "metadata": {
            "tags": [],
            "needs_background": "light"
          }
        }
      ]
    },
    {
      "cell_type": "code",
      "metadata": {
        "id": "_vLSieEgNI6E",
        "colab": {
          "base_uri": "https://localhost:8080/",
          "height": 279
        },
        "outputId": "7dd18ddc-ff73-49b9-e329-925a680b776e"
      },
      "source": [
        "accu_values = Model2.history['loss']\r\n",
        "epochs = range(1,len(accu_values) + 1)\r\n",
        "plt.plot(epochs,accu_values,label = 'Функция потерь')\r\n",
        "plt.xlabel('Epochs')\r\n",
        "plt.ylabel('loss')\r\n",
        "plt.legend()\r\n",
        "plt.show()"
      ],
      "execution_count": 16,
      "outputs": [
        {
          "output_type": "display_data",
          "data": {
            "image/png": "[encoded data removed]",
            "text/plain": [
              "<Figure size 432x288 with 1 Axes>"
            ]
          },
          "metadata": {
            "tags": [],
            "needs_background": "light"
          }
        }
      ]
    }
  ]
}